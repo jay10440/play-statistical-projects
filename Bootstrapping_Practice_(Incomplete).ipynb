{
  "nbformat": 4,
  "nbformat_minor": 0,
  "metadata": {
    "colab": {
      "provenance": [],
      "authorship_tag": "ABX9TyM9m58OWWbuJ3WSl+O46yf4",
      "include_colab_link": true
    },
    "kernelspec": {
      "name": "ir",
      "display_name": "R"
    },
    "language_info": {
      "name": "R"
    }
  },
  "cells": [
    {
      "cell_type": "markdown",
      "metadata": {
        "id": "view-in-github",
        "colab_type": "text"
      },
      "source": [
        "<a href=\"https://colab.research.google.com/github/jay10440/play-statistical-projects/blob/main/Bootstrapping_Practice_(Incomplete).ipynb\" target=\"_parent\"><img src=\"https://colab.research.google.com/assets/colab-badge.svg\" alt=\"Open In Colab\"/></a>"
      ]
    },
    {
      "cell_type": "markdown",
      "source": [
        "Classic Bootstrapping: Chapter 5"
      ],
      "metadata": {
        "id": "SZAEo7VaG4SQ"
      }
    },
    {
      "cell_type": "code",
      "source": [
        "install.packages(\"MASS\")\n",
        "install.packages(\"tidyverse\")\n",
        "install.packages(\"ISLR\")\n",
        "library(MASS)\n",
        "library(tidyverse)\n",
        "library(ISLR)"
      ],
      "metadata": {
        "colab": {
          "base_uri": "https://localhost:8080/"
        },
        "id": "zUyNJ4DeH92b",
        "outputId": "6f3a4695-1dcf-4b3f-e780-6c9b16d82c2a"
      },
      "execution_count": null,
      "outputs": [
        {
          "output_type": "stream",
          "name": "stderr",
          "text": [
            "Installing package into ‘/usr/local/lib/R/site-library’\n",
            "(as ‘lib’ is unspecified)\n",
            "\n",
            "Installing package into ‘/usr/local/lib/R/site-library’\n",
            "(as ‘lib’ is unspecified)\n",
            "\n",
            "Installing package into ‘/usr/local/lib/R/site-library’\n",
            "(as ‘lib’ is unspecified)\n",
            "\n",
            "── \u001b[1mAttaching core tidyverse packages\u001b[22m ──────────────────────── tidyverse 2.0.0 ──\n",
            "\u001b[32m✔\u001b[39m \u001b[34mdplyr    \u001b[39m 1.1.4     \u001b[32m✔\u001b[39m \u001b[34mreadr    \u001b[39m 2.1.5\n",
            "\u001b[32m✔\u001b[39m \u001b[34mforcats  \u001b[39m 1.0.0     \u001b[32m✔\u001b[39m \u001b[34mstringr  \u001b[39m 1.5.1\n",
            "\u001b[32m✔\u001b[39m \u001b[34mggplot2  \u001b[39m 3.5.2     \u001b[32m✔\u001b[39m \u001b[34mtibble   \u001b[39m 3.2.1\n",
            "\u001b[32m✔\u001b[39m \u001b[34mlubridate\u001b[39m 1.9.4     \u001b[32m✔\u001b[39m \u001b[34mtidyr    \u001b[39m 1.3.1\n",
            "\u001b[32m✔\u001b[39m \u001b[34mpurrr    \u001b[39m 1.0.4     \n",
            "── \u001b[1mConflicts\u001b[22m ────────────────────────────────────────── tidyverse_conflicts() ──\n",
            "\u001b[31m✖\u001b[39m \u001b[34mdplyr\u001b[39m::\u001b[32mfilter()\u001b[39m masks \u001b[34mstats\u001b[39m::filter()\n",
            "\u001b[31m✖\u001b[39m \u001b[34mdplyr\u001b[39m::\u001b[32mlag()\u001b[39m    masks \u001b[34mstats\u001b[39m::lag()\n",
            "\u001b[31m✖\u001b[39m \u001b[34mdplyr\u001b[39m::\u001b[32mselect()\u001b[39m masks \u001b[34mMASS\u001b[39m::select()\n",
            "\u001b[36mℹ\u001b[39m Use the conflicted package (\u001b[3m\u001b[34m<http://conflicted.r-lib.org/>\u001b[39m\u001b[23m) to force all conflicts to become errors\n"
          ]
        }
      ]
    },
    {
      "cell_type": "code",
      "execution_count": null,
      "metadata": {
        "colab": {
          "base_uri": "https://localhost:8080/",
          "height": 139
        },
        "id": "HRUkpuTuGzEj",
        "outputId": "85d15daf-b88c-4e93-ec37-24b72d9e11f8"
      },
      "outputs": [
        {
          "output_type": "display_data",
          "data": {
            "text/html": [
              "<pre class=language-r><code>function (data, index) \n",
              "{\n",
              "<span style=white-space:pre-wrap>    X = data$X[index]</span>\n",
              "<span style=white-space:pre-wrap>    Y = data$Y[index]</span>\n",
              "<span style=white-space:pre-wrap>    return((var(Y) - cov(X, Y))/(var(X) + var(Y) - 2 * cov(X, </span>\n",
              "<span style=white-space:pre-wrap>        Y)))</span>\n",
              "}</code></pre>"
            ],
            "text/markdown": "```r\nfunction (data, index) \n{\n    X = data$X[index]\n    Y = data$Y[index]\n    return((var(Y) - cov(X, Y))/(var(X) + var(Y) - 2 * cov(X, \n        Y)))\n}\n```",
            "text/latex": "\\begin{minted}{r}\nfunction (data, index) \n\\{\n    X = data\\$X{[}index{]}\n    Y = data\\$Y{[}index{]}\n    return((var(Y) - cov(X, Y))/(var(X) + var(Y) - 2 * cov(X, \n        Y)))\n\\}\n\\end{minted}",
            "text/plain": [
              "function (data, index) \n",
              "{\n",
              "    X = data$X[index]\n",
              "    Y = data$Y[index]\n",
              "    return((var(Y) - cov(X, Y))/(var(X) + var(Y) - 2 * cov(X, \n",
              "        Y)))\n",
              "}"
            ]
          },
          "metadata": {}
        }
      ],
      "source": [
        "alpha.fn=function(data,index){\n",
        "    X=data$X[index]\n",
        "    Y=data$Y[index]\n",
        "    return((var(Y)-cov(X,Y))/(var(X)+var(Y)-2*cov(X,Y)))\n",
        "}\n",
        "alpha.fn"
      ]
    },
    {
      "cell_type": "code",
      "source": [
        "alpha.fn(Portfolio, 1:100)"
      ],
      "metadata": {
        "colab": {
          "base_uri": "https://localhost:8080/",
          "height": 34
        },
        "id": "Lmwda7eSH4su",
        "outputId": "6f8660a8-6f0b-4775-f008-2bca7eeb058d"
      },
      "execution_count": null,
      "outputs": [
        {
          "output_type": "display_data",
          "data": {
            "text/html": [
              "0.57583207459283"
            ],
            "text/markdown": "0.57583207459283",
            "text/latex": "0.57583207459283",
            "text/plain": [
              "[1] 0.5758321"
            ]
          },
          "metadata": {}
        }
      ]
    },
    {
      "cell_type": "code",
      "source": [
        "library(boot)"
      ],
      "metadata": {
        "id": "4IkYNcsVITME"
      },
      "execution_count": null,
      "outputs": []
    },
    {
      "cell_type": "code",
      "source": [
        "set.seed(1)\n",
        "#wait\n",
        "alpha.fn(Portfolio,sample(100,100,replace=T))"
      ],
      "metadata": {
        "colab": {
          "base_uri": "https://localhost:8080/",
          "height": 34
        },
        "id": "A3rLb4t8Ih-7",
        "outputId": "97769967-0f61-4d70-88b2-b48cda51fa9a"
      },
      "execution_count": null,
      "outputs": [
        {
          "output_type": "display_data",
          "data": {
            "text/html": [
              "0.736837501928544"
            ],
            "text/markdown": "0.736837501928544",
            "text/latex": "0.736837501928544",
            "text/plain": [
              "[1] 0.7368375"
            ]
          },
          "metadata": {}
        }
      ]
    },
    {
      "cell_type": "code",
      "source": [
        "#Let's do this a bunch of times! But not by hand, using the boot command\n",
        "boot(Portfolio, alpha.fn,R=1000)"
      ],
      "metadata": {
        "colab": {
          "base_uri": "https://localhost:8080/",
          "height": 208
        },
        "id": "65phZ64KI2J7",
        "outputId": "20b069be-f4cc-48cf-d16b-14b903a67995"
      },
      "execution_count": null,
      "outputs": [
        {
          "output_type": "display_data",
          "data": {
            "text/plain": [
              "\n",
              "ORDINARY NONPARAMETRIC BOOTSTRAP\n",
              "\n",
              "\n",
              "Call:\n",
              "boot(data = Portfolio, statistic = alpha.fn, R = 1000)\n",
              "\n",
              "\n",
              "Bootstrap Statistics :\n",
              "     original       bias    std. error\n",
              "t1* 0.5758321 -0.001695873  0.09366347"
            ]
          },
          "metadata": {}
        }
      ]
    },
    {
      "cell_type": "code",
      "source": [
        "attach(Auto)\n",
        "boot.fn=function(data,index) #This is the general function\n",
        "return(coef(lm(mpg~horsepower, data=data, subset=index)))\n",
        "\n",
        "boot.fn(Auto, 1:392)"
      ],
      "metadata": {
        "colab": {
          "base_uri": "https://localhost:8080/",
          "height": 208
        },
        "id": "r5Ip0lSMJoLE",
        "outputId": "9488c86f-dc87-42aa-ad0d-99d23a5fca53"
      },
      "execution_count": null,
      "outputs": [
        {
          "output_type": "stream",
          "name": "stderr",
          "text": [
            "The following object is masked from package:lubridate:\n",
            "\n",
            "    origin\n",
            "\n",
            "\n",
            "The following object is masked from package:ggplot2:\n",
            "\n",
            "    mpg\n",
            "\n",
            "\n"
          ]
        },
        {
          "output_type": "display_data",
          "data": {
            "text/html": [
              "<style>\n",
              ".dl-inline {width: auto; margin:0; padding: 0}\n",
              ".dl-inline>dt, .dl-inline>dd {float: none; width: auto; display: inline-block}\n",
              ".dl-inline>dt::after {content: \":\\0020\"; padding-right: .5ex}\n",
              ".dl-inline>dt:not(:first-of-type) {padding-left: .5ex}\n",
              "</style><dl class=dl-inline><dt>(Intercept)</dt><dd>39.9358610211705</dd><dt>horsepower</dt><dd>-0.157844733353654</dd></dl>\n"
            ],
            "text/markdown": "(Intercept)\n:   39.9358610211705horsepower\n:   -0.157844733353654\n\n",
            "text/latex": "\\begin{description*}\n\\item[(Intercept)] 39.9358610211705\n\\item[horsepower] -0.157844733353654\n\\end{description*}\n",
            "text/plain": [
              "(Intercept)  horsepower \n",
              " 39.9358610  -0.1578447 "
            ]
          },
          "metadata": {}
        }
      ]
    },
    {
      "cell_type": "markdown",
      "source": [
        "To be continued..."
      ],
      "metadata": {
        "id": "K0sCRGV6Lhvk"
      }
    },
    {
      "cell_type": "code",
      "source": [],
      "metadata": {
        "id": "7qR33m-MKrg1"
      },
      "execution_count": null,
      "outputs": []
    }
  ]
}